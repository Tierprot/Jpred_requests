{
 "cells": [
  {
   "cell_type": "code",
   "execution_count": 10,
   "metadata": {
    "collapsed": false
   },
   "outputs": [
    {
     "name": "stdout",
     "output_type": "stream",
     "text": [
      "apomio_27D_to_27A\n",
      "apomio_27D_to_27D\n",
      "apomio_28I_to_28A\n",
      "apomio_28I_to_28I\n",
      "apomio_29L_to_29A\n",
      "apomio_29L_to_29L\n",
      "apomio_30I_to_30A\n",
      "apomio_30I_to_30I\n",
      "apomio_31R_to_31A\n",
      "apomio_31R_to_31R\n",
      "-------------\n",
      "apomio_31R_to_31R apomio_31R_to_31A\n",
      "apomio_30I_to_30I apomio_30I_to_30A\n",
      "apomio_27D_to_27D apomio_27D_to_27A\n",
      "apomio_28I_to_28I apomio_28I_to_28A\n",
      "apomio_29L_to_29L apomio_29L_to_29A\n"
     ]
    }
   ],
   "source": [
    "import time\n",
    "import re\n",
    "import os\n",
    "\n",
    "download_dir = 'downloads'\n",
    "\n",
    "names = os.listdir(os.path.join(os.getcwd(), download_dir))\n",
    "names = [name.split('.tar')[0] for name in names]\n",
    "\n",
    "keys = [item for item in names if item.split('_')[1]==item.split('_')[-1]]\n",
    "values = [item for item in names if item.split('_')[1]!=item.split('_')[-1]]\n",
    "\n",
    "mapping = {}\n",
    "for key in keys:\n",
    "    for value in values:\n",
    "        if key.split('_')[1]==value.split('_')[1]:\n",
    "            mapping.update({key:value})\n",
    "\n",
    "for item in names:\n",
    "    print(item)\n",
    "    \n",
    "print('-------------')    \n",
    "for key, value in mapping.items():\n",
    "    print(key,value)"
   ]
  },
  {
   "cell_type": "code",
   "execution_count": null,
   "metadata": {
    "collapsed": true
   },
   "outputs": [],
   "source": []
  }
 ],
 "metadata": {
  "kernelspec": {
   "display_name": "Python 3",
   "language": "python",
   "name": "python3"
  },
  "language_info": {
   "codemirror_mode": {
    "name": "ipython",
    "version": 3
   },
   "file_extension": ".py",
   "mimetype": "text/x-python",
   "name": "python",
   "nbconvert_exporter": "python",
   "pygments_lexer": "ipython3",
   "version": "3.5.2"
  }
 },
 "nbformat": 4,
 "nbformat_minor": 0
}
